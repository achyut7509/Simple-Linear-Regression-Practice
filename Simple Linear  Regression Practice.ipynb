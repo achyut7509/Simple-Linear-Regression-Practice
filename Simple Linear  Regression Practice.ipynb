{
 "cells": [
  {
   "cell_type": "markdown",
   "id": "1f9205b0",
   "metadata": {},
   "source": [
    "# SIMPLE LINEAR REGRESSION"
   ]
  },
  {
   "cell_type": "markdown",
   "id": "21e099a8",
   "metadata": {},
   "source": [
    "## 1. Importing libraries"
   ]
  },
  {
   "cell_type": "code",
   "execution_count": 1,
   "id": "f9a1ccd8",
   "metadata": {},
   "outputs": [],
   "source": [
    "import pandas as pd\n",
    "import seaborn as sns\n",
    "import matplotlib.pyplot as plt\n",
    "import warnings\n",
    "warnings.filterwarnings('ignore')"
   ]
  },
  {
   "cell_type": "markdown",
   "id": "3249ecd1",
   "metadata": {},
   "source": [
    "## 2. Import dataset"
   ]
  },
  {
   "cell_type": "code",
   "execution_count": 2,
   "id": "96cb537b",
   "metadata": {},
   "outputs": [
    {
     "data": {
      "text/html": [
       "<div>\n",
       "<style scoped>\n",
       "    .dataframe tbody tr th:only-of-type {\n",
       "        vertical-align: middle;\n",
       "    }\n",
       "\n",
       "    .dataframe tbody tr th {\n",
       "        vertical-align: top;\n",
       "    }\n",
       "\n",
       "    .dataframe thead th {\n",
       "        text-align: right;\n",
       "    }\n",
       "</style>\n",
       "<table border=\"1\" class=\"dataframe\">\n",
       "  <thead>\n",
       "    <tr style=\"text-align: right;\">\n",
       "      <th></th>\n",
       "      <th>Waist</th>\n",
       "      <th>AT</th>\n",
       "    </tr>\n",
       "  </thead>\n",
       "  <tbody>\n",
       "    <tr>\n",
       "      <th>0</th>\n",
       "      <td>74.75</td>\n",
       "      <td>25.72</td>\n",
       "    </tr>\n",
       "    <tr>\n",
       "      <th>1</th>\n",
       "      <td>72.60</td>\n",
       "      <td>25.89</td>\n",
       "    </tr>\n",
       "    <tr>\n",
       "      <th>2</th>\n",
       "      <td>81.80</td>\n",
       "      <td>42.60</td>\n",
       "    </tr>\n",
       "    <tr>\n",
       "      <th>3</th>\n",
       "      <td>83.95</td>\n",
       "      <td>42.80</td>\n",
       "    </tr>\n",
       "    <tr>\n",
       "      <th>4</th>\n",
       "      <td>74.65</td>\n",
       "      <td>29.84</td>\n",
       "    </tr>\n",
       "  </tbody>\n",
       "</table>\n",
       "</div>"
      ],
      "text/plain": [
       "   Waist     AT\n",
       "0  74.75  25.72\n",
       "1  72.60  25.89\n",
       "2  81.80  42.60\n",
       "3  83.95  42.80\n",
       "4  74.65  29.84"
      ]
     },
     "execution_count": 2,
     "metadata": {},
     "output_type": "execute_result"
    }
   ],
   "source": [
    "wc_at_dataset= pd.read_csv('WC_AT.csv',sep=',')\n",
    "wc_at_dataset.head()"
   ]
  },
  {
   "cell_type": "markdown",
   "id": "c78b55f1",
   "metadata": {},
   "source": [
    "## 3. Data Understanding"
   ]
  },
  {
   "cell_type": "markdown",
   "id": "bd935b23",
   "metadata": {},
   "source": [
    "###     3.1  Initial Analysis"
   ]
  },
  {
   "cell_type": "code",
   "execution_count": 3,
   "id": "92060875",
   "metadata": {},
   "outputs": [
    {
     "data": {
      "text/plain": [
       "(109, 2)"
      ]
     },
     "execution_count": 3,
     "metadata": {},
     "output_type": "execute_result"
    }
   ],
   "source": [
    "wc_at_dataset.shape"
   ]
  },
  {
   "cell_type": "code",
   "execution_count": 4,
   "id": "c9f60fad",
   "metadata": {},
   "outputs": [
    {
     "data": {
      "text/plain": [
       "Waist    0\n",
       "AT       0\n",
       "dtype: int64"
      ]
     },
     "execution_count": 4,
     "metadata": {},
     "output_type": "execute_result"
    }
   ],
   "source": [
    "wc_at_dataset.isna().sum()"
   ]
  },
  {
   "cell_type": "code",
   "execution_count": 5,
   "id": "2e53b8dd",
   "metadata": {},
   "outputs": [
    {
     "data": {
      "text/plain": [
       "Waist    float64\n",
       "AT       float64\n",
       "dtype: object"
      ]
     },
     "execution_count": 5,
     "metadata": {},
     "output_type": "execute_result"
    }
   ],
   "source": [
    "wc_at_dataset.dtypes"
   ]
  },
  {
   "cell_type": "markdown",
   "id": "f6a05570",
   "metadata": {},
   "source": [
    "### 3.2 Assumptions check"
   ]
  },
  {
   "cell_type": "markdown",
   "id": "be115312",
   "metadata": {},
   "source": [
    "####  (i) Linearity Check"
   ]
  },
  {
   "cell_type": "code",
   "execution_count": 7,
   "id": "6318beb4",
   "metadata": {},
   "outputs": [
    {
     "data": {
      "image/png": "[encoded data removed]",
      "text/plain": [
       "<Figure size 432x288 with 1 Axes>"
      ]
     },
     "metadata": {
      "needs_background": "light"
     },
     "output_type": "display_data"
    }
   ],
   "source": [
    "sns.scatterplot(x='Waist',y='AT',data=wc_at_dataset)\n",
    "plt.title('Waist Circumference vs Adipose Tissue Plot')\n",
    "plt.show()"
   ]
  },
  {
   "cell_type": "code",
   "execution_count": 8,
   "id": "0dac08ba",
   "metadata": {},
   "outputs": [
    {
     "data": {
      "image/png": "[encoded data removed]",
      "text/plain": [
       "<Figure size 360x360 with 1 Axes>"
      ]
     },
     "metadata": {
      "needs_background": "light"
     },
     "output_type": "display_data"
    }
   ],
   "source": [
    "sns.lmplot(x='Waist',y='AT',data=wc_at_dataset)\n",
    "plt.title('Waist Circumference vs Adipose Tissue Plot')\n",
    "plt.show()"
   ]
  },
  {
   "cell_type": "markdown",
   "id": "658bfdf3",
   "metadata": {},
   "source": [
    "#### (ii) Normality Test"
   ]
  },
  {
   "cell_type": "code",
   "execution_count": 12,
   "id": "fdea5ef3",
   "metadata": {},
   "outputs": [
    {
     "data": {
      "image/png": "[encoded data removed]",
      "text/plain": [
       "<Figure size 432x288 with 1 Axes>"
      ]
     },
     "metadata": {
      "needs_background": "light"
     },
     "output_type": "display_data"
    }
   ],
   "source": [
    "sns.distplot(a=wc_at_dataset['AT'],hist=False)\n",
    "plt.show()"
   ]
  },
  {
   "cell_type": "code",
   "execution_count": 14,
   "id": "5dd67c7e",
   "metadata": {},
   "outputs": [
    {
     "data": {
      "text/plain": [
       "0.584869324127853"
      ]
     },
     "execution_count": 14,
     "metadata": {},
     "output_type": "execute_result"
    }
   ],
   "source": [
    "wc_at_dataset['AT'].skew()"
   ]
  },
  {
   "cell_type": "markdown",
   "id": "30bc2b25",
   "metadata": {},
   "source": [
    "#### (iii) Multi-collinearity test -- only one input and output variable so this test cannot be performed"
   ]
  },
  {
   "cell_type": "markdown",
   "id": "6df77eb7",
   "metadata": {},
   "source": [
    "#### (iv) No Autoregression - No time based values in the dataset"
   ]
  },
  {
   "cell_type": "markdown",
   "id": "48612b35",
   "metadata": {},
   "source": [
    "#### (v) Homoscadascity test | (vi) Zero residual mean check - can be only performed after model deployement"
   ]
  },
  {
   "cell_type": "markdown",
   "id": "5b71c258",
   "metadata": {},
   "source": [
    "## 4. Data Preparation"
   ]
  },
  {
   "cell_type": "code",
   "execution_count": 15,
   "id": "1abba444",
   "metadata": {},
   "outputs": [
    {
     "data": {
      "text/plain": [
       "Waist    float64\n",
       "AT       float64\n",
       "dtype: object"
      ]
     },
     "execution_count": 15,
     "metadata": {},
     "output_type": "execute_result"
    }
   ],
   "source": [
    "wc_at_dataset.dtypes"
   ]
  },
  {
   "cell_type": "code",
   "execution_count": 16,
   "id": "06c0a438",
   "metadata": {},
   "outputs": [
    {
     "data": {
      "text/plain": [
       "Waist    0\n",
       "AT       0\n",
       "dtype: int64"
      ]
     },
     "execution_count": 16,
     "metadata": {},
     "output_type": "execute_result"
    }
   ],
   "source": [
    "wc_at_dataset.isna().sum()"
   ]
  },
  {
   "cell_type": "markdown",
   "id": "e8cbf2b2",
   "metadata": {},
   "source": [
    "## 5. Model Building | 6. Model Training (Using statsmodel library)\n",
    "### model building and model training is done simultaneously using 'OLS technique' (Ordinary Least Square)."
   ]
  },
  {
   "cell_type": "code",
   "execution_count": 17,
   "id": "48ac2326",
   "metadata": {},
   "outputs": [],
   "source": [
    "import statsmodels.formula.api as smf"
   ]
  },
  {
   "cell_type": "code",
   "execution_count": 20,
   "id": "5dcdb883",
   "metadata": {},
   "outputs": [],
   "source": [
    "linear_model_2= smf.ols(formula='Waist~AT',data=wc_at_dataset).fit() #Model building and Model training"
   ]
  },
  {
   "cell_type": "code",
   "execution_count": 21,
   "id": "84390242",
   "metadata": {},
   "outputs": [
    {
     "data": {
      "text/plain": [
       "Intercept    72.163315\n",
       "AT            0.193716\n",
       "dtype: float64"
      ]
     },
     "execution_count": 21,
     "metadata": {},
     "output_type": "execute_result"
    }
   ],
   "source": [
    "linear_model_2.params"
   ]
  },
  {
   "cell_type": "markdown",
   "id": "93f3c8da",
   "metadata": {},
   "source": [
    "## 7. Model Testing "
   ]
  },
  {
   "cell_type": "markdown",
   "id": "8d2637a2",
   "metadata": {},
   "source": [
    "### I. Manual testing"
   ]
  },
  {
   "cell_type": "code",
   "execution_count": 35,
   "id": "93a43bc0",
   "metadata": {},
   "outputs": [
    {
     "data": {
      "text/plain": [
       "77.9748"
      ]
     },
     "execution_count": 35,
     "metadata": {},
     "output_type": "execute_result"
    }
   ],
   "source": [
    "#y= mx + c\n",
    "x= 30.0\n",
    "y= (x*0.193716) + 72.163315\n",
    "round(y,4)"
   ]
  },
  {
   "cell_type": "code",
   "execution_count": 36,
   "id": "9a377522",
   "metadata": {},
   "outputs": [
    {
     "data": {
      "text/plain": [
       "79.912"
      ]
     },
     "execution_count": 36,
     "metadata": {},
     "output_type": "execute_result"
    }
   ],
   "source": [
    "#y= mx + c\n",
    "#x= 40 ,y= ?\n",
    "y= (40*0.193716) + 72.163315\n",
    "round(y,4)"
   ]
  },
  {
   "cell_type": "markdown",
   "id": "a7981b87",
   "metadata": {},
   "source": [
    "### II. Machine testing"
   ]
  },
  {
   "cell_type": "code",
   "execution_count": 27,
   "id": "27b5c109",
   "metadata": {},
   "outputs": [
    {
     "data": {
      "text/html": [
       "<div>\n",
       "<style scoped>\n",
       "    .dataframe tbody tr th:only-of-type {\n",
       "        vertical-align: middle;\n",
       "    }\n",
       "\n",
       "    .dataframe tbody tr th {\n",
       "        vertical-align: top;\n",
       "    }\n",
       "\n",
       "    .dataframe thead th {\n",
       "        text-align: right;\n",
       "    }\n",
       "</style>\n",
       "<table border=\"1\" class=\"dataframe\">\n",
       "  <thead>\n",
       "    <tr style=\"text-align: right;\">\n",
       "      <th></th>\n",
       "      <th>AT</th>\n",
       "    </tr>\n",
       "  </thead>\n",
       "  <tbody>\n",
       "    <tr>\n",
       "      <th>0</th>\n",
       "      <td>30.0</td>\n",
       "    </tr>\n",
       "    <tr>\n",
       "      <th>1</th>\n",
       "      <td>40.3</td>\n",
       "    </tr>\n",
       "    <tr>\n",
       "      <th>2</th>\n",
       "      <td>46.0</td>\n",
       "    </tr>\n",
       "    <tr>\n",
       "      <th>3</th>\n",
       "      <td>46.7</td>\n",
       "    </tr>\n",
       "    <tr>\n",
       "      <th>4</th>\n",
       "      <td>22.8</td>\n",
       "    </tr>\n",
       "  </tbody>\n",
       "</table>\n",
       "</div>"
      ],
      "text/plain": [
       "     AT\n",
       "0  30.0\n",
       "1  40.3\n",
       "2  46.0\n",
       "3  46.7\n",
       "4  22.8"
      ]
     },
     "execution_count": 27,
     "metadata": {},
     "output_type": "execute_result"
    }
   ],
   "source": [
    "test_data = pd.read_csv('WC_AT-1 New dataset.csv',sep=',')\n",
    "test_data.head()"
   ]
  },
  {
   "cell_type": "code",
   "execution_count": 28,
   "id": "3d87e1e2",
   "metadata": {},
   "outputs": [
    {
     "data": {
      "text/plain": [
       "0     77.974800\n",
       "1     79.970076\n",
       "2     81.074258\n",
       "3     81.209859\n",
       "4     76.580043\n",
       "5     77.335536\n",
       "6     78.362232\n",
       "7     79.059610\n",
       "8     77.161192\n",
       "9     76.580043\n",
       "10    79.369556\n",
       "11    77.548624\n",
       "12    77.296793\n",
       "13    79.873218\n",
       "14    76.425070\n",
       "15    78.149144\n",
       "16    79.950704\n",
       "17    78.672178\n",
       "18    76.812503\n",
       "19    79.911961\n",
       "dtype: float64"
      ]
     },
     "execution_count": 28,
     "metadata": {},
     "output_type": "execute_result"
    }
   ],
   "source": [
    "linear_model_2.predict(test_data)"
   ]
  },
  {
   "cell_type": "markdown",
   "id": "92afb3fd",
   "metadata": {},
   "source": [
    "## 8. Model evaluation - -----"
   ]
  },
  {
   "cell_type": "markdown",
   "id": "3500fb24",
   "metadata": {},
   "source": [
    "## 9. Model Deployement"
   ]
  },
  {
   "cell_type": "code",
   "execution_count": 37,
   "id": "1ed87fba",
   "metadata": {},
   "outputs": [],
   "source": [
    "from pickle import dump"
   ]
  },
  {
   "cell_type": "code",
   "execution_count": 38,
   "id": "53eb88d1",
   "metadata": {},
   "outputs": [],
   "source": [
    "dump(linear_model_2,open('linear_model_2.pkl','wb'))"
   ]
  },
  {
   "cell_type": "code",
   "execution_count": 40,
   "id": "4b5e94cb",
   "metadata": {},
   "outputs": [],
   "source": [
    "from pickle import load"
   ]
  },
  {
   "cell_type": "code",
   "execution_count": 41,
   "id": "94a1dcb4",
   "metadata": {},
   "outputs": [],
   "source": [
    "load_pkl_file= load(open('linear_model_2.pkl','rb'))"
   ]
  },
  {
   "cell_type": "code",
   "execution_count": null,
   "id": "25ce21c0",
   "metadata": {},
   "outputs": [],
   "source": [
    "load_pkl_file.predict()"
   ]
  }
 ],
 "metadata": {
  "kernelspec": {
   "display_name": "Python 3",
   "language": "python",
   "name": "python3"
  },
  "language_info": {
   "codemirror_mode": {
    "name": "ipython",
    "version": 3
   },
   "file_extension": ".py",
   "mimetype": "text/x-python",
   "name": "python",
   "nbconvert_exporter": "python",
   "pygments_lexer": "ipython3",
   "version": "3.8.8"
  }
 },
 "nbformat": 4,
 "nbformat_minor": 5
}
